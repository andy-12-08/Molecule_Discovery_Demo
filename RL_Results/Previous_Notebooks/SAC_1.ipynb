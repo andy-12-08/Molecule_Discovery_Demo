{
 "cells": [
  {
   "cell_type": "markdown",
   "metadata": {},
   "source": [
    "### Initializing the predictive and generative (vae) models"
   ]
  },
  {
   "cell_type": "code",
   "execution_count": 1,
   "metadata": {},
   "outputs": [
    {
     "name": "stdout",
     "output_type": "stream",
     "text": [
      "generated molecule: CCCCCCSCC=O\n",
      "predicted property: 1.3475134372711182\n"
     ]
    }
   ],
   "source": [
    "### This script generates a molecule using the trained VAE model and \n",
    "# predicts the property of the generated molecule using the trained GNN model\n",
    "\n",
    "import numpy as np\n",
    "import pandas as pd\n",
    "import selfies as sf\n",
    "from src.pretrainedmodel import GNNmodel\n",
    "from rdkit import Chem\n",
    "import torch\n",
    "import sys\n",
    "sys.path.append('../')\n",
    "from src.vae_module import VAE\n",
    "from src.vae_module import flatten\n",
    "\n",
    "\n",
    "graph_model_path = 'models'\n",
    "prediction_model = GNNmodel(path = graph_model_path)\n",
    "\n",
    "# load the trained VAE model\n",
    "latent_dim = 32  # latent dimension of the VAE\n",
    "vae = VAE(input_dim=3624, latent_dim=latent_dim)\n",
    "vae.load_state_dict(torch.load('models/vae_model.pt'))\n",
    "\n",
    "original_data = pd.read_csv('data/test_more_dataNoinionc.csv', header=None, names=['smiles', 'logCMC'])\n",
    "original_data_input_smiles_list = original_data.iloc[:, 0].tolist()\n",
    "# convert smiles to canonical smiles\n",
    "original_data_input_smiles_list = [Chem.MolToSmiles(Chem.MolFromSmiles(sm), canonical=True) for sm in original_data_input_smiles_list]\n",
    "\n",
    "def encode_data_from_smiles_to_vae_encoded(input_smiles_list):\n",
    "    input_selfies_list = list(map(sf.encoder, input_smiles_list))\n",
    "    # Parameters for encoding\n",
    "    max_len = max(sf.len_selfies(s) for s in input_selfies_list)\n",
    "    alphabet = sf.get_alphabet_from_selfies(input_selfies_list)\n",
    "    alphabet.add(\"[nop]\")\n",
    "    alphabet = list(sorted(alphabet))\n",
    "    vocab_stoi = {symbol: idx for idx, symbol in enumerate(alphabet)}\n",
    "    vocab_itos = {idx: symbol for symbol, idx in vocab_stoi.items()}\n",
    "    # Convert SELFIES to one-hot encoding\n",
    "    input_one_hot_arr = np.array([sf.selfies_to_encoding(s, vocab_stoi, pad_to_len=max_len)[1] for s in input_selfies_list])\n",
    "    ## Convert the \"input_one_hot_arr\" dataset to tensor\n",
    "    input_one_hot_arr_tensor = torch.tensor(input_one_hot_arr, dtype=torch.float32)\n",
    "    # Flatten the input data using the custom 'flatten' function\n",
    "    # This function takes a 3D tensor 'x_train' and reshapes it into a 2D tensor\n",
    "    width, height, input_dim, flattened_dataset = flatten(input_one_hot_arr_tensor)\n",
    "    return height, vocab_itos, width\n",
    "\n",
    "def generate_vae_molecules(n, height, vocab_itos, width):\n",
    "    # Generate molecules from the trained VAE\n",
    "    vae.eval()\n",
    "    with torch.no_grad():\n",
    "        latent_samples = torch.randn(n, latent_dim)\n",
    "        generated_molecules = vae.decoder(latent_samples)\n",
    "        # Convert the generated molecules to SMILES\n",
    "        def generated_molecules_to_smiles(generated_molecules):\n",
    "            # Reshape satisfying_molecules_tensor back to a 3D tensor\n",
    "            generated_molecules_tensor_3d = generated_molecules.view(-1, width, height)\n",
    "            # Convert the PyTorch 3D tensor to a NumPy array\n",
    "            generated_molecules_numpy = generated_molecules_tensor_3d.numpy()\n",
    "            max_values = np.max(generated_molecules_numpy, axis=2, keepdims=True)\n",
    "            generated_data = np.where(generated_molecules_numpy == max_values, 1, 0)\n",
    "            ### Reproduce SMILES list and visualize the output images\n",
    "            output_smiles_list = []\n",
    "            for i in range (0,len(generated_data)):\n",
    "                sm = sf.decoder(sf.encoding_to_selfies(generated_data[i].tolist(), vocab_itos, enc_type=\"one_hot\"))\n",
    "                output_smiles_list.append(sm)\n",
    "            return output_smiles_list\n",
    "        # Convert the generated molecules to SMILES\n",
    "        generated_molecules_smiles_list = generated_molecules_to_smiles(generated_molecules)\n",
    "        # convert smiles to canonical smiles\n",
    "        generated_molecules_smiles_list = [Chem.MolToSmiles(Chem.MolFromSmiles(sm), canonical=True) for sm in generated_molecules_smiles_list]\n",
    "        # remove duplicates\n",
    "        generated_molecules_smiles_list = list(set(generated_molecules_smiles_list))\n",
    "        return generated_molecules_smiles_list\n",
    "    \n",
    "height, vocab_itos, width = encode_data_from_smiles_to_vae_encoded(original_data_input_smiles_list)\n",
    "\n",
    "mol = generate_vae_molecules(1, height, vocab_itos, width)\n",
    "print(f'generated molecule: {mol[0]}')\n",
    "\n",
    "prop = prediction_model.predict(mol)\n",
    "print(f'predicted property: {prop[0]}')"
   ]
  },
  {
   "cell_type": "code",
   "execution_count": 2,
   "metadata": {},
   "outputs": [],
   "source": [
    "# Function to generate molecules from a latent vector using the VAE model (Extracted from cell 1)\n",
    "def generate_molecules_from_latent(latent_vector, height, vocab_itos, width):\n",
    "    with torch.no_grad():  # Disable gradient calculation for efficiency\n",
    "        generated_molecules = vae.decoder(latent_vector)  # Decode the latent vector\n",
    "        # Reshape the decoded output to a 3D tensor\n",
    "        generated_molecules_tensor_3d = generated_molecules.view(-1, width, height)\n",
    "        generated_molecules_numpy = generated_molecules_tensor_3d.numpy()\n",
    "        # Convert the output to a one-hot encoded format\n",
    "        max_values = np.max(generated_molecules_numpy, axis=2, keepdims=True)\n",
    "        generated_data = np.where(generated_molecules_numpy == max_values, 1, 0)\n",
    "        # Convert the one-hot encoded molecules back to SMILES strings\n",
    "        output_smiles_list = []\n",
    "        for data in generated_data:\n",
    "            sm = sf.decoder(sf.encoding_to_selfies(data.tolist(), vocab_itos, enc_type=\"one_hot\"))\n",
    "            output_smiles_list.append(sm)\n",
    "        # # Canonicalize the SMILES and remove duplicates\n",
    "        # output_smiles_list = [Chem.MolToSmiles(Chem.MolFromSmiles(sm), canonical=True) for sm in output_smiles_list if Chem.MolFromSmiles(sm)]\n",
    "        # output_smiles_list = list(set(output_smiles_list))  # Remove duplicates\n",
    "        return output_smiles_list"
   ]
  },
  {
   "cell_type": "markdown",
   "metadata": {},
   "source": [
    "### RL Using Stable-Baseline3 and OpenAI Gymnesium (Custom) Environment for Optimizing the Latent Space Sampling"
   ]
  },
  {
   "cell_type": "code",
   "execution_count": 4,
   "metadata": {},
   "outputs": [],
   "source": [
    "import gymnasium as gym  # Import Gymnasium (successor of OpenAI Gym)\n",
    "from stable_baselines3 import PPO  # Import the PPO algorithm from Stable Baselines3\n",
    "from stable_baselines3.common.vec_env import DummyVecEnv  # Correct import for DummyVecEnv\n",
    "import matplotlib.pyplot as plt\n",
    "from stable_baselines3 import SAC"
   ]
  },
  {
   "cell_type": "code",
   "execution_count": null,
   "metadata": {},
   "outputs": [
    {
     "name": "stdout",
     "output_type": "stream",
     "text": [
      "Using cpu device\n"
     ]
    }
   ],
   "source": [
    "# Initialize lists to store rewards\n",
    "rewards = []\n",
    "max_step = 100  # Set the maximum number of steps per episode\n",
    "step_count_per_episode = []  # Initialize a list to store the step count per episode\n",
    "\n",
    "# Define a custom Gymnasium environment for your molecular generation task\n",
    "class MoleculeEnv(gym.Env):\n",
    "    def __init__(self, vae, prediction_model, latent_dim, height, vocab_itos, width, max_step=max_step):\n",
    "        super(MoleculeEnv, self).__init__()\n",
    "\n",
    "        # Initialize the VAE model and prediction model\n",
    "        self.vae = vae\n",
    "        self.prediction_model = prediction_model\n",
    "        # Parameters related to the VAE and the latent space\n",
    "        self.latent_dim = latent_dim\n",
    "        self.height = height\n",
    "        self.vocab_itos = vocab_itos\n",
    "        self.width = width\n",
    "        self.max_step = max_step  # Set the maximum number of steps per episode\n",
    "        # Action space: continuous values between -5 and 5 to match the latent space\n",
    "        self.action_space = gym.spaces.Box(low=-5.0, high=5.0, shape=(latent_dim,), dtype=np.float32)\n",
    "        # Observation space\n",
    "        self.observation_space = gym.spaces.Box(low=-5.0, high=5.0, shape=(latent_dim,), dtype=np.float32)\n",
    "        # Initialize the latent vector (state) randomly\n",
    "        self.state = torch.randn(1, self.latent_dim)\n",
    "\n",
    "    def reset(self, seed=None):\n",
    "        # Reset the environment by sampling a new random latent vector\n",
    "        self.state = torch.randn(1, self.latent_dim)\n",
    "        self.current_step = 0  # Reset step counter\n",
    "        return self.state.numpy().flatten(), {}  # Return the state as a flattened NumPy array and an info dictionary\n",
    "\n",
    "    def step(self, action):\n",
    "        self.state = torch.tensor(action, dtype=torch.float32)\n",
    "        # Decode the latent state using the VAE to generate a molecule\n",
    "        generated_smiles_list = generate_molecules_from_latent(self.state, self.height, self.vocab_itos, self.width)\n",
    "        # Calculate the reward based on the predicted property value\n",
    "        if generated_smiles_list:\n",
    "            property_value = self.prediction_model.predict(generated_smiles_list)[0]\n",
    "            reward = reward_function(property_value)  # Calculate the reward using the custom reward function\n",
    "            done = property_value < -1 # End the episode if the desired property condition is met\n",
    "            if done:\n",
    "                self.desired_state = self.state.clone()  # Store the state if the condition is met\n",
    "        else:\n",
    "            reward = -100  # Penalize if no valid molecule is generated\n",
    "            done = False  # Episode \n",
    "        self.current_step += 1  # Increment the step counter   \n",
    "        # End the episode if the maximum number of steps is reached\n",
    "        if self.current_step >= self.max_step:\n",
    "            done = True\n",
    "        step_count_per_episode.append(self.current_step)  # Append the step count to the list\n",
    "        rewards.append(reward)  # Append the reward to the rewards list\n",
    "\n",
    "        # Include property_value in info if available, for easier access during evaluation\n",
    "        info = {\"property_value\": float(property_value)} if generated_smiles_list else {}\n",
    "        \n",
    "        # return self.state.numpy().flatten(), reward, done, False, {}\n",
    "        return self.state.numpy().flatten(), reward, done, False, info\n",
    "    \n",
    "# Reward function to incentivize the agent to generate molecules with properties less than -1\n",
    "def reward_function(property_value):\n",
    "    if property_value <= -1:\n",
    "        return   -10*(property_value + 1 ) # High reward for achieving the desired property\n",
    "    else:\n",
    "        return   -100*(property_value + 1)  # Penalize based on the distance from the desired threshold\n",
    "\n",
    "# Create and vectorize the custom Gym environment\n",
    "env = MoleculeEnv(vae, prediction_model, latent_dim, height, vocab_itos, width, max_step=max_step)\n",
    "env = DummyVecEnv([lambda: env])  # Vectorize the environment for parallelization\n",
    "\n",
    "# Initialize the SAC model with default parameters\n",
    "model = SAC(\"MlpPolicy\",env,verbose=1)\n",
    "\n",
    "# Open a file to write the output\n",
    "with open(\"training_sac_1.txt\", \"w\") as f:\n",
    "    # Redirect stdout to the file\n",
    "    sys.stdout = f\n",
    "    # Train the PPO model\n",
    "    model.learn(total_timesteps=200000)\n",
    "    # Reset stdout to default\n",
    "    sys.stdout = sys.__stdout__\n",
    "# Save the trained model to a file for later use\n",
    "model.save(\"sac_1_molecule_model\")"
   ]
  },
  {
   "cell_type": "code",
   "execution_count": 5,
   "metadata": {},
   "outputs": [
    {
     "data": {
      "image/png": "[encoded data removed]",
      "text/plain": [
       "<Figure size 1200x600 with 1 Axes>"
      ]
     },
     "metadata": {},
     "output_type": "display_data"
    }
   ],
   "source": [
    "window_size = 500 # Adjust this based on how much smoothing you want\n",
    "def moving_average(data, window_size=window_size):\n",
    "    \"\"\"Calculate the moving average of the data with the specified window size.\"\"\"\n",
    "    return np.convolve(data, np.ones(window_size) / window_size, mode='valid')\n",
    "smoothed_rewards = moving_average(rewards, window_size)\n",
    "\n",
    "plt.figure(figsize=(12, 6))\n",
    "# Plot the moving average of rewards\n",
    "plt.plot(range(window_size - 1, len(rewards)), smoothed_rewards, label=f\"Moving Average (Window Size = {window_size})\")\n",
    "plt.xlabel(\"Timesteps\")\n",
    "plt.ylabel(\"Reward\")\n",
    "plt.title(\"Reward vs. Timesteps (with Moving Average)\")\n",
    "plt.legend()\n",
    "plt.savefig(\"reward_vs_timesteps_plot_sac_1.png\", dpi=300)\n",
    "plt.show()\n"
   ]
  },
  {
   "cell_type": "code",
   "execution_count": 6,
   "metadata": {},
   "outputs": [
    {
     "data": {
      "image/png": "[encoded data removed]",
      "text/plain": [
       "<Figure size 1200x600 with 1 Axes>"
      ]
     },
     "metadata": {},
     "output_type": "display_data"
    }
   ],
   "source": [
    "# smooth the step count per episode using a moving average\n",
    "smoothed_step_count = moving_average(step_count_per_episode, window_size)\n",
    "# plot the smoothed step count per episode\n",
    "plt.figure(figsize=(12, 6))\n",
    "plt.plot(range(window_size - 1, len(step_count_per_episode)), smoothed_step_count, label=f\"Moving Average (Window Size = {window_size})\")\n",
    "plt.xlabel(\"Timesteps\")\n",
    "plt.ylabel(\"Step Count\")\n",
    "plt.title(\"Step Count per Episode (with Moving Average)\")\n",
    "plt.legend()\n",
    "plt.savefig(\"step_count_vs_timesteps_plot_sac_1.png\", dpi=300)\n",
    "plt.show()\n"
   ]
  },
  {
   "cell_type": "code",
   "execution_count": 6,
   "metadata": {},
   "outputs": [],
   "source": [
    "model = SAC.load(\"sac_1_molecule_model\")"
   ]
  },
  {
   "cell_type": "code",
   "execution_count": 7,
   "metadata": {},
   "outputs": [],
   "source": [
    "def RL_agent(n, steps=1):\n",
    "    generated_smiles_list = []\n",
    "    for _ in range(n):\n",
    "        # Reset the environment\n",
    "        state = env.reset()\n",
    "        for step in range(steps):\n",
    "            action, _states = model.predict(state, deterministic=True)            \n",
    "            state, reward, done, info = env.step(action)         \n",
    "            if done[0]:  # Check the `done` flag in a vectorized environment\n",
    "                break\n",
    "        desired_state = env.get_attr(\"desired_state\")[0]  # Access the stored state with the desired property\n",
    "        latent_vector = torch.tensor(desired_state).squeeze(0)  # Remove the batch dimension from the state\n",
    "        generated_smile = generate_molecules_from_latent(latent_vector, env.envs[0].height, env.envs[0].vocab_itos, env.envs[0].width)\n",
    "        generated_smiles_list += generated_smile\n",
    "    return generated_smiles_list"
   ]
  },
  {
   "cell_type": "code",
   "execution_count": 8,
   "metadata": {},
   "outputs": [
    {
     "name": "stderr",
     "output_type": "stream",
     "text": [
      "C:\\Users\\okafo\\AppData\\Local\\Temp\\ipykernel_18436\\1395623527.py:12: UserWarning: To copy construct from a tensor, it is recommended to use sourceTensor.clone().detach() or sourceTensor.clone().detach().requires_grad_(True), rather than torch.tensor(sourceTensor).\n",
      "  latent_vector = torch.tensor(desired_state).squeeze(0)  # Remove the batch dimension from the state\n"
     ]
    },
    {
     "data": {
      "text/plain": [
       "(100, 1, 99)"
      ]
     },
     "execution_count": 8,
     "metadata": {},
     "output_type": "execute_result"
    }
   ],
   "source": [
    "generated_smile = RL_agent(100)\n",
    "duplicate_smiles = []\n",
    "unique_smiles = []\n",
    "for sm in generated_smile:\n",
    "    if sm not in unique_smiles:\n",
    "        unique_smiles.append(sm)\n",
    "    else:\n",
    "        duplicate_smiles.append(sm)\n",
    "len(generated_smile), len(unique_smiles), len(duplicate_smiles)"
   ]
  },
  {
   "cell_type": "code",
   "execution_count": 9,
   "metadata": {},
   "outputs": [
    {
     "data": {
      "text/plain": [
       "100"
      ]
     },
     "execution_count": 9,
     "metadata": {},
     "output_type": "execute_result"
    }
   ],
   "source": [
    "prop = prediction_model.predict(generated_smile)\n",
    "len([p for p in prop if p < -1])"
   ]
  },
  {
   "cell_type": "code",
   "execution_count": 10,
   "metadata": {},
   "outputs": [
    {
     "data": {
      "text/plain": [
       "[-3.8502994775772095,\n",
       " -3.8502994775772095,\n",
       " -3.8502994775772095,\n",
       " -3.8502994775772095,\n",
       " -3.8502994775772095,\n",
       " -3.8502994775772095,\n",
       " -3.8502994775772095,\n",
       " -3.8502994775772095,\n",
       " -3.8502994775772095,\n",
       " -3.8502994775772095,\n",
       " -3.8502994775772095,\n",
       " -3.8502994775772095,\n",
       " -3.8502994775772095,\n",
       " -3.8502994775772095,\n",
       " -3.8502994775772095,\n",
       " -3.8502994775772095,\n",
       " -3.8502994775772095,\n",
       " -3.8502994775772095,\n",
       " -3.8502994775772095,\n",
       " -3.8502994775772095,\n",
       " -3.8502994775772095,\n",
       " -3.8502994775772095,\n",
       " -3.8502994775772095,\n",
       " -3.8502994775772095,\n",
       " -3.8502994775772095,\n",
       " -3.8502994775772095,\n",
       " -3.8502994775772095,\n",
       " -3.8502994775772095,\n",
       " -3.8502994775772095,\n",
       " -3.8502994775772095,\n",
       " -3.8502994775772095,\n",
       " -3.8502994775772095,\n",
       " -3.8502994775772095,\n",
       " -3.8502994775772095,\n",
       " -3.8502994775772095,\n",
       " -3.8502994775772095,\n",
       " -3.8502994775772095,\n",
       " -3.8502994775772095,\n",
       " -3.8502994775772095,\n",
       " -3.8502994775772095,\n",
       " -3.8502994775772095,\n",
       " -3.8502994775772095,\n",
       " -3.8502994775772095,\n",
       " -3.8502994775772095,\n",
       " -3.8502994775772095,\n",
       " -3.8502994775772095,\n",
       " -3.8502994775772095,\n",
       " -3.8502994775772095,\n",
       " -3.8502994775772095,\n",
       " -3.8502994775772095,\n",
       " -3.8502994775772095,\n",
       " -3.8502994775772095,\n",
       " -3.8502994775772095,\n",
       " -3.8502994775772095,\n",
       " -3.8502994775772095,\n",
       " -3.8502994775772095,\n",
       " -3.8502994775772095,\n",
       " -3.8502994775772095,\n",
       " -3.8502994775772095,\n",
       " -3.8502994775772095,\n",
       " -3.8502994775772095,\n",
       " -3.8502994775772095,\n",
       " -3.8502994775772095,\n",
       " -3.8502994775772095,\n",
       " -3.8502994775772095,\n",
       " -3.8502994775772095,\n",
       " -3.8502994775772095,\n",
       " -3.8502994775772095,\n",
       " -3.8502994775772095,\n",
       " -3.8502994775772095,\n",
       " -3.8502994775772095,\n",
       " -3.8502994775772095,\n",
       " -3.8502994775772095,\n",
       " -3.8502994775772095,\n",
       " -3.8502994775772095,\n",
       " -3.8502994775772095,\n",
       " -3.8502994775772095,\n",
       " -3.8502994775772095,\n",
       " -3.8502994775772095,\n",
       " -3.8502994775772095,\n",
       " -3.8502994775772095,\n",
       " -3.8502994775772095,\n",
       " -3.8502994775772095,\n",
       " -3.8502994775772095,\n",
       " -3.8502994775772095,\n",
       " -3.8502994775772095,\n",
       " -3.8502994775772095,\n",
       " -3.8502994775772095,\n",
       " -3.8502994775772095,\n",
       " -3.8502994775772095,\n",
       " -3.8502994775772095,\n",
       " -3.8502994775772095,\n",
       " -3.8502994775772095,\n",
       " -3.8502994775772095,\n",
       " -3.8502994775772095,\n",
       " -3.8502994775772095,\n",
       " -3.8502994775772095,\n",
       " -3.8502994775772095,\n",
       " -3.8502994775772095,\n",
       " -3.8502994775772095]"
      ]
     },
     "execution_count": 10,
     "metadata": {},
     "output_type": "execute_result"
    }
   ],
   "source": [
    "prop"
   ]
  },
  {
   "cell_type": "code",
   "execution_count": 20,
   "metadata": {},
   "outputs": [
    {
     "data": {
      "text/plain": [
       "['OCCOCCCCCCCCCCCCCCSCCCCCF',\n",
       " 'OCCOCCCCCCCCCCCCCCSCCCCCF',\n",
       " 'OCCOCCCCCCCCCCCCCCSCCCCCF',\n",
       " 'OCCOCCCCCCCCCCCCCCSCCCCCF',\n",
       " 'OCCOCCCCCCCCCCCCCCSCCCCCF',\n",
       " 'OCCOCCCCCCCCCCCCCCSCCCCCF',\n",
       " 'OCCOCCCCCCCCCCCCCCSCCCCCF',\n",
       " 'OCCOCCCCCCCCCCCCCCSCCCCCF',\n",
       " 'OCCOCCCCCCCCCCCCCCSCCCCCF',\n",
       " 'OCCOCCCCCCCCCCCCCCSCCCCCF',\n",
       " 'OCCOCCCCCCCCCCCCCCSCCCCCF',\n",
       " 'OCCOCCCCCCCCCCCCCCSCCCCCF',\n",
       " 'OCCOCCCCCCCCCCCCCCSCCCCCF',\n",
       " 'OCCOCCCCCCCCCCCCCCSCCCCCF',\n",
       " 'OCCOCCCCCCCCCCCCCCSCCCCCF',\n",
       " 'OCCOCCCCCCCCCCCCCCSCCCCCF',\n",
       " 'OCCOCCCCCCCCCCCCCCSCCCCCF',\n",
       " 'OCCOCCCCCCCCCCCCCCSCCCCCF',\n",
       " 'OCCOCCCCCCCCCCCCCCSCCCCCF',\n",
       " 'OCCOCCCCCCCCCCCCCCSCCCCCF',\n",
       " 'OCCOCCCCCCCCCCCCCCSCCCCCF',\n",
       " 'OCCOCCCCCCCCCCCCCCSCCCCCF',\n",
       " 'OCCOCCCCCCCCCCCCCCSCCCCCF',\n",
       " 'OCCOCCCCCCCCCCCCCCSCCCCCF',\n",
       " 'OCCOCCCCCCCCCCCCCCSCCCCCF',\n",
       " 'OCCOCCCCCCCCCCCCCCSCCCCCF',\n",
       " 'OCCOCCCCCCCCCCCCCCSCCCCCF',\n",
       " 'OCCOCCCCCCCCCCCCCCSCCCCCF',\n",
       " 'OCCOCCCCCCCCCCCCCCSCCCCCF',\n",
       " 'OCCOCCCCCCCCCCCCCCSCCCCCF',\n",
       " 'OCCOCCCCCCCCCCCCCCSCCCCCF',\n",
       " 'OCCOCCCCCCCCCCCCCCSCCCCCF',\n",
       " 'OCCOCCCCCCCCCCCCCCSCCCCCF',\n",
       " 'OCCOCCCCCCCCCCCCCCSCCCCCF',\n",
       " 'OCCOCCCCCCCCCCCCCCSCCCCCF',\n",
       " 'OCCOCCCCCCCCCCCCCCSCCCCCF',\n",
       " 'OCCOCCCCCCCCCCCCCCSCCCCCF',\n",
       " 'OCCOCCCCCCCCCCCCCCSCCCCCF',\n",
       " 'OCCOCCCCCCCCCCCCCCSCCCCCF',\n",
       " 'OCCOCCCCCCCCCCCCCCSCCCCCF',\n",
       " 'OCCOCCCCCCCCCCCCCCSCCCCCF',\n",
       " 'OCCOCCCCCCCCCCCCCCSCCCCCF',\n",
       " 'OCCOCCCCCCCCCCCCCCSCCCCCF',\n",
       " 'OCCOCCCCCCCCCCCCCCSCCCCCF',\n",
       " 'OCCOCCCCCCCCCCCCCCSCCCCCF',\n",
       " 'OCCOCCCCCCCCCCCCCCSCCCCCF',\n",
       " 'OCCOCCCCCCCCCCCCCCSCCCCCF',\n",
       " 'OCCOCCCCCCCCCCCCCCSCCCCCF',\n",
       " 'OCCOCCCCCCCCCCCCCCSCCCCCF',\n",
       " 'OCCOCCCCCCCCCCCCCCSCCCCCF',\n",
       " 'OCCOCCCCCCCCCCCCCCSCCCCCF',\n",
       " 'OCCOCCCCCCCCCCCCCCSCCCCCF',\n",
       " 'OCCOCCCCCCCCCCCCCCSCCCCCF',\n",
       " 'OCCOCCCCCCCCCCCCCCSCCCCCF',\n",
       " 'OCCOCCCCCCCCCCCCCCSCCCCCF',\n",
       " 'OCCOCCCCCCCCCCCCCCSCCCCCF',\n",
       " 'OCCOCCCCCCCCCCCCCCSCCCCCF',\n",
       " 'OCCOCCCCCCCCCCCCCCSCCCCCF',\n",
       " 'OCCOCCCCCCCCCCCCCCSCCCCCF',\n",
       " 'OCCOCCCCCCCCCCCCCCSCCCCCF',\n",
       " 'OCCOCCCCCCCCCCCCCCSCCCCCF',\n",
       " 'OCCOCCCCCCCCCCCCCCSCCCCCF',\n",
       " 'OCCOCCCCCCCCCCCCCCSCCCCCF',\n",
       " 'OCCOCCCCCCCCCCCCCCSCCCCCF',\n",
       " 'OCCOCCCCCCCCCCCCCCSCCCCCF',\n",
       " 'OCCOCCCCCCCCCCCCCCSCCCCCF',\n",
       " 'OCCOCCCCCCCCCCCCCCSCCCCCF',\n",
       " 'OCCOCCCCCCCCCCCCCCSCCCCCF',\n",
       " 'OCCOCCCCCCCCCCCCCCSCCCCCF',\n",
       " 'OCCOCCCCCCCCCCCCCCSCCCCCF',\n",
       " 'OCCOCCCCCCCCCCCCCCSCCCCCF',\n",
       " 'OCCOCCCCCCCCCCCCCCSCCCCCF',\n",
       " 'OCCOCCCCCCCCCCCCCCSCCCCCF',\n",
       " 'OCCOCCCCCCCCCCCCCCSCCCCCF',\n",
       " 'OCCOCCCCCCCCCCCCCCSCCCCCF',\n",
       " 'OCCOCCCCCCCCCCCCCCSCCCCCF',\n",
       " 'OCCOCCCCCCCCCCCCCCSCCCCCF',\n",
       " 'OCCOCCCCCCCCCCCCCCSCCCCCF',\n",
       " 'OCCOCCCCCCCCCCCCCCSCCCCCF',\n",
       " 'OCCOCCCCCCCCCCCCCCSCCCCCF',\n",
       " 'OCCOCCCCCCCCCCCCCCSCCCCCF',\n",
       " 'OCCOCCCCCCCCCCCCCCSCCCCCF',\n",
       " 'OCCOCCCCCCCCCCCCCCSCCCCCF',\n",
       " 'OCCOCCCCCCCCCCCCCCSCCCCCF',\n",
       " 'OCCOCCCCCCCCCCCCCCSCCCCCF',\n",
       " 'OCCOCCCCCCCCCCCCCCSCCCCCF',\n",
       " 'OCCOCCCCCCCCCCCCCCSCCCCCF',\n",
       " 'OCCOCCCCCCCCCCCCCCSCCCCCF',\n",
       " 'OCCOCCCCCCCCCCCCCCSCCCCCF',\n",
       " 'OCCOCCCCCCCCCCCCCCSCCCCCF',\n",
       " 'OCCOCCCCCCCCCCCCCCSCCCCCF',\n",
       " 'OCCOCCCCCCCCCCCCCCSCCCCCF',\n",
       " 'OCCOCCCCCCCCCCCCCCSCCCCCF',\n",
       " 'OCCOCCCCCCCCCCCCCCSCCCCCF',\n",
       " 'OCCOCCCCCCCCCCCCCCSCCCCCF',\n",
       " 'OCCOCCCCCCCCCCCCCCSCCCCCF',\n",
       " 'OCCOCCCCCCCCCCCCCCSCCCCCF',\n",
       " 'OCCOCCCCCCCCCCCCCCSCCCCCF',\n",
       " 'OCCOCCCCCCCCCCCCCCSCCCCCF',\n",
       " 'OCCOCCCCCCCCCCCCCCSCCCCCF']"
      ]
     },
     "execution_count": 20,
     "metadata": {},
     "output_type": "execute_result"
    }
   ],
   "source": [
    "generated_smile"
   ]
  }
 ],
 "metadata": {
  "kernelspec": {
   "display_name": "ocp-models",
   "language": "python",
   "name": "python3"
  },
  "language_info": {
   "codemirror_mode": {
    "name": "ipython",
    "version": 3
   },
   "file_extension": ".py",
   "mimetype": "text/x-python",
   "name": "python",
   "nbconvert_exporter": "python",
   "pygments_lexer": "ipython3",
   "version": "3.9.18"
  }
 },
 "nbformat": 4,
 "nbformat_minor": 2
}
